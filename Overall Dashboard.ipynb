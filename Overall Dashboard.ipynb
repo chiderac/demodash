{
 "cells": [
  {
   "cell_type": "markdown",
   "metadata": {},
   "source": [
    "[DIY Covid-19 Dashboard Kit](https://github.com/fsmeraldi/diy-covid19dash) (C) Fabrizio Smeraldi, 2020 ([f.smeraldi@qmul.ac.uk](mailto:f.smeraldi@qmul.ac.uk) - [web](http://www.eecs.qmul.ac.uk/~fabri/)). All rights reserved."
   ]
  },
  {
   "cell_type": "markdown",
   "metadata": {},
   "source": [
    "# DIY Covid-19 Dashboard"
   ]
  },
  {
   "cell_type": "markdown",
   "metadata": {},
   "source": [
    "The coronavirus pandemic is currently affecting the whole world, causing an overwhelming amount of infections and deaths on a daily basis. This dashboard focuses on data for England. It maps out the hospital cases, new admissions and ventilator bed occupanacy over time. In addition it maps out new cases with hospital admissions. "
   ]
  },
  {
   "cell_type": "markdown",
   "metadata": {},
   "source": [
    "# Key for Graphs within Dashboard\n"
   ]
  },
  {
   "cell_type": "markdown",
   "metadata": {},
   "source": [
    "- Hospital Cases refers to hospital cases \n",
    "- New Admissions refers to new admissions at hospital\n",
    "- Ventilator Bed Occupancy refers to COVID-19 occupied beds with mechanical ventilators\n",
    "- New Cases refers to new cases by publish date\n"
   ]
  },
  {
   "cell_type": "markdown",
   "metadata": {},
   "source": [
    "Please press the refresh button to refresh the data for the latest view of the graph"
   ]
  },
  {
   "cell_type": "code",
   "execution_count": 1,
   "metadata": {},
   "outputs": [],
   "source": [
    "import ipywidgets as wdg\n",
    "import pandas as pd\n",
    "import numpy as np\n",
    "import matplotlib.pyplot as plt\n",
    "import json\n",
    "from uk_covid19 import Cov19API"
   ]
  },
  {
   "cell_type": "code",
   "execution_count": 2,
   "metadata": {},
   "outputs": [],
   "source": [
    "%matplotlib inline\n",
    "# make figures larger\n",
    "plt.rcParams['figure.dpi'] = 100"
   ]
  },
  {
   "cell_type": "code",
   "execution_count": 3,
   "metadata": {},
   "outputs": [],
   "source": [
    "# Load JSON files and store the raw data in some variable. Edit as appropriate\n",
    "#jsondata={}\n",
    "with open(\"england.json\", \"rt\") as INFILE:\n",
    "    data1=json.load(INFILE)\n",
    "\n"
   ]
  },
  {
   "cell_type": "code",
   "execution_count": 8,
   "metadata": {},
   "outputs": [],
   "source": [
    "def parse_date(datestring):\n",
    "    \"\"\" Convert a date string into a pandas datetime object \"\"\"\n",
    "    return pd.to_datetime(datestring, format=\"%Y-%m-%d\")\n",
    "\n",
    "def wrangle_data(data):\n",
    "    datalist=data['data']\n",
    "    dates=[dictionary['date'] for dictionary in datalist ]\n",
    "    dates.sort()\n",
    "    \n",
    "    startdate=parse_date(dates[0])\n",
    "    enddate=parse_date(dates[-1])\n",
    "    index=pd.date_range(startdate, enddate, freq='D')\n",
    "    \n",
    "    england_df=pd.DataFrame(index=index, columns=['covidOccupiedMVBeds', 'hospitalCases', 'newAdmissions'])\n",
    "    for entry in datalist: # each entry is a dictionary with date, cases, hospital and deaths\n",
    "        date=parse_date(entry['date'])\n",
    "        for column in ['covidOccupiedMVBeds', 'hospitalCases', 'newAdmissions']:\n",
    "        # check that nothing is there yet - just in case some dates are duplicated,\n",
    "        # maybe with data for different columns in each entry\n",
    "        #print(england_df.loc[date, column])\n",
    "         if pd.isna(england_df.loc[date, column]): \n",
    "            # replace None with 0 in our data \n",
    "            value= float(entry[column]) if entry[column]!=None else 0.0\n",
    "            # this is the way you access a specific location in the dataframe - use .loc\n",
    "            # and put index,column in a single set of [ ]\n",
    "            england_df.loc[date, column]=value\n",
    "            \n",
    "            \n",
    "            \n",
    "# fill in any remaining \"holes\" due to missing dates\n",
    "    england_df.fillna(0.0, inplace=True)\n",
    "    return england_df\n",
    "            \n",
    "\n",
    "\n",
    " \n",
    "\n",
    "\n",
    "    \n",
    "england_df=wrangle_data(data1)\n",
    "#england_df.to_pickle(\"england_df.pkl\")\n",
    "#area_df.to_pickle(\"area_df.pkl\")\n",
    "#england_df.plot()\n",
    "#england_df.head()\n",
    "#for col in england_df.columns:\n",
    "    #england_df[col].values[:] = 1"
   ]
  },
  {
   "cell_type": "code",
   "execution_count": 9,
   "metadata": {},
   "outputs": [],
   "source": [
    "def access_api():\n",
    "    filters= [\n",
    "        'areaType=nation',\n",
    "        'areaName=england'\n",
    "    ]\n",
    "\n",
    "\n",
    "# values here are the names of the PHE metrics\n",
    "    structure = {\n",
    "       \"date\": \"date\",\n",
    "       \"covidOccupiedMVBeds\":\"covidOccupiedMVBeds\",\n",
    "       \"hospitalCases\": \"hospitalCases\",\n",
    "       \"newAdmissions\": \"newAdmissions\"    \n",
    "    }\n",
    "    \n",
    "    api = Cov19API(filters=filters, structure=structure)\n",
    "    england=api.get_json()\n",
    "    print(england)\n",
    "    #with open(\"england.json\", \"wt\") as OUTF:\n",
    "        #json.dump(england, OUTF)\n",
    "    #with open(\"england.json\", \"rt\") as INFILE:\n",
    "        #data=json.load(INFILE)\n",
    "    #INFLIE.close()\n",
    "    \n",
    "    return england\n",
    "\n",
    "#access_api()\n",
    "\n",
    "    \n"
   ]
  },
  {
   "cell_type": "markdown",
   "metadata": {},
   "source": [
    "## New Admissions, Hospital Cases and Ventilator Bed Occupancy per day in England"
   ]
  },
  {
   "cell_type": "code",
   "execution_count": 26,
   "metadata": {},
   "outputs": [
    {
     "data": {
      "application/vnd.jupyter.widget-view+json": {
       "model_id": "e56917db093748e0954f7234b2c4ad4c",
       "version_major": 2,
       "version_minor": 0
      },
      "text/plain": [
       "Button(button_style='success', description='Refresh data', icon='download', style=ButtonStyle(), tooltip='Clic…"
      ]
     },
     "metadata": {},
     "output_type": "display_data"
    }
   ],
   "source": [
    "def api_button_callback(button):\n",
    "    apidata=access_api()\n",
    "    global england_df\n",
    "    england_df=wrangle_data(apidata)\n",
    "    refresh_graph()\n",
    "    apibutton.icon=\"check\"\n",
    "    \n",
    "apibutton=wdg.Button(\n",
    "    description='Refresh data', # you may want to change this...\n",
    "    disabled=False,\n",
    "    button_style='success', # 'success', 'info', 'warning', 'danger' or ''\n",
    "    tooltip='Click to download current Public Health England data',\n",
    "    # FontAwesome names without the `fa-` prefix - try \"download\"\n",
    "    icon='download'\n",
    ")\n",
    "\n",
    "# remember to register your button callback function with the button\n",
    "apibutton.on_click(api_button_callback) # the name of your function inside these brackets\n",
    "\n",
    "display(apibutton)"
   ]
  },
  {
   "cell_type": "code",
   "execution_count": 27,
   "metadata": {},
   "outputs": [
    {
     "data": {
      "application/vnd.jupyter.widget-view+json": {
       "model_id": "9e3a214ef6aa4c6e84b3a25ec88ecdb7",
       "version_major": 2,
       "version_minor": 0
      },
      "text/plain": [
       "HBox(children=(Output(), VBox(children=(SelectMultiple(description='Stats:', index=(0, 1, 2), options=('covidO…"
      ]
     },
     "metadata": {},
     "output_type": "display_data"
    }
   ],
   "source": [
    "#england_df=pd.read_pickle(\"england_df.pkl\")\n",
    "\n",
    "def england_graph(gcols, gscale):\n",
    "    #print(gcols)\n",
    "    #print(gscale)\n",
    "    #print(england_df)\n",
    "    if gscale=='linear':\n",
    "        logscale=False\n",
    "    else:\n",
    "        logscale=True\n",
    "    ncols=len(gcols)\n",
    "    if ncols>0:\n",
    "        england_df[list(gcols)].plot(logy=logscale)\n",
    "    else:\n",
    "        print(\"Click to select data for graph\")\n",
    "        print(\"(CTRL-Click to select more than one category)\")\n",
    "        \n",
    "series1=wdg.SelectMultiple(\n",
    "    options=['covidOccupiedMVBeds', 'hospitalCases', 'newAdmissions'],\n",
    "    value=['covidOccupiedMVBeds', 'hospitalCases', 'newAdmissions'],\n",
    "    rows=3,\n",
    "    description='Stats:',\n",
    "    disabled=False\n",
    ")\n",
    "    \n",
    "scale1=wdg.RadioButtons(\n",
    "    options=['linear', 'log'],\n",
    "    #value='pineapple', # Defaults to 'pineapple'\n",
    "    #layout={'width': 'max-content'}, # If the items' names are long\n",
    "    description='Scale:',\n",
    "    disabled=False\n",
    ")\n",
    "\n",
    "controls=wdg.HBox([series1, scale1])\n",
    "\n",
    "\n",
    "def refresh_graph():\n",
    "    \"\"\" We change the value of the widget in order to force a redraw of the graph;\n",
    "    this is useful when the data have been updated. This is a bit of a gimmick; it\n",
    "    needs to be customised for one of your widgets. \"\"\"\n",
    "    current=scale1.value\n",
    "    if current==scale1.options[0]:\n",
    "        other=scale1.options[1]\n",
    "    else:\n",
    "        other=scale1.options[0]\n",
    "    scale1.value=other # forces the redraw\n",
    "    scale1.value=current # now we can change it back\n",
    "    \n",
    "# keep calling timeseries_graph(gcols=value_of_series, gscale=value_of_scale); capture output in variable graph   \n",
    "graph1=wdg.interactive_output(england_graph, {'gcols': series1, 'gscale': scale1})\n",
    "\n",
    "#display(controls, graph)\n",
    "# stack series and scale on top of each other\n",
    "ctrls1=wdg.VBox([series1, scale1])\n",
    "# put the graph and the controls side by side\n",
    "form=wdg.HBox([graph1, ctrls1])\n",
    "\n",
    "# Now form contains the entire interface\n",
    "display(form)"
   ]
  },
  {
   "cell_type": "markdown",
   "metadata": {},
   "source": [
    "## Ventilator Bed Occupancy per day in England - Graph"
   ]
  },
  {
   "cell_type": "code",
   "execution_count": 48,
   "metadata": {},
   "outputs": [
    {
     "data": {
      "image/png": "[encoded data removed]",
      "text/plain": [
       "<Figure size 600x400 with 1 Axes>"
      ]
     },
     "metadata": {},
     "output_type": "display_data"
    }
   ],
   "source": [
    "def draw_1():\n",
    "    subplot = england_df.plot(y='covidOccupiedMVBeds', color = 'mediumspringgreen')\n",
    "    plt.style.use(\"ggplot\")\n",
    "    plt.xlabel(\"Date\")\n",
    "    plt.ylabel(\"covidOccupiedMVBeds\")\n",
    "    plt.title(\"Ventilator Bed Occupancy per day\")\n",
    "    plt.grid(True)\n",
    "\n",
    "\n",
    "def change_1():\n",
    "    plt.clf()\n",
    "\n",
    "draw_1()\n",
    "\n"
   ]
  },
  {
   "cell_type": "markdown",
   "metadata": {},
   "source": [
    "## Hospital Cases per day in England - Graph"
   ]
  },
  {
   "cell_type": "code",
   "execution_count": null,
   "metadata": {},
   "outputs": [],
   "source": [
    "england_df.plot(y='hospitalCases', color = 'deeppink')\n",
    "plt.style.use(\"ggplot\")\n",
    "plt.xlabel(\"Date\")\n",
    "plt.ylabel(\"Hospital Cases\")\n",
    "plt.title(\"Hospital Cases per day\")\n",
    "plt.grid(True)"
   ]
  },
  {
   "cell_type": "markdown",
   "metadata": {},
   "source": [
    "## New Admissions per day in England - Graph"
   ]
  },
  {
   "cell_type": "code",
   "execution_count": null,
   "metadata": {},
   "outputs": [],
   "source": [
    "england_df.plot(y='newAdmissions', color = 'mediumslateblue')\n",
    "plt.style.use(\"ggplot\")\n",
    "plt.xlabel(\"Date\")\n",
    "plt.ylabel(\"New Admissions\")\n",
    "plt.title(\"New Admissions per day\")\n",
    "plt.grid(True)"
   ]
  },
  {
   "cell_type": "code",
   "execution_count": 12,
   "metadata": {},
   "outputs": [],
   "source": [
    "INFILE.close()"
   ]
  },
  {
   "cell_type": "code",
   "execution_count": 13,
   "metadata": {},
   "outputs": [],
   "source": [
    "with open(\"area.json\", \"rt\") as INFILE:\n",
    "    data2=json.load(INFILE)"
   ]
  },
  {
   "cell_type": "code",
   "execution_count": 22,
   "metadata": {},
   "outputs": [],
   "source": [
    "def parse2_date(datestring):\n",
    "    \"\"\" Convert a date string into a pandas datetime object \"\"\"\n",
    "    return pd.to_datetime(datestring, format=\"%Y-%m-%d\")\n",
    "\n",
    "def wrangle2_data(data):\n",
    "    datalist=data2['data']\n",
    "    dates=[dictionary['date'] for dictionary in datalist ]\n",
    "    dates.sort()\n",
    "    \n",
    "    startdate=parse2_date(dates[0])\n",
    "    enddate=parse2_date(dates[-1])\n",
    "    index=pd.date_range(startdate, enddate, freq='D')\n",
    "    \n",
    "    area_df=pd.DataFrame(index=index, columns=['newCases', 'hospitalAdmissions'])\n",
    "    for entry in datalist: # each entry is a dictionary with date, cases, hospital and deaths\n",
    "        date=parse2_date(entry['date'])\n",
    "        for column in ['newCases', 'hospitalAdmissions']:\n",
    "        # check that nothing is there yet - just in case some dates are duplicated,\n",
    "        # maybe with data for different columns in each entry\n",
    "        #print(england_df.loc[date, column])\n",
    "         if pd.isna(area_df.loc[date, column]): \n",
    "            # replace None with 0 in our data \n",
    "            value= float(entry[column]) if entry[column]!=None else 0.0\n",
    "            # this is the way you access a specific location in the dataframe - use .loc\n",
    "            # and put index,column in a single set of [ ]\n",
    "            area_df.loc[date, column]=value\n",
    "            \n",
    "            \n",
    "            \n",
    "# fill in any remaining \"holes\" due to missing dates\n",
    "    area_df.fillna(0.0, inplace=True)\n",
    "    #print(area_df)\n",
    "    return area_df\n",
    "            \n",
    "\n",
    "\n",
    " \n",
    "\n",
    "\n",
    "    \n",
    "area_df=wrangle2_data(data2)\n",
    "#area_df.to_pickle(\"area_df.pkl\")\n",
    "#area_df=pd.read_pickle(\"area_df.pkl\")\n",
    "#england_df.plot()\n",
    "#england_df.head()"
   ]
  },
  {
   "cell_type": "code",
   "execution_count": 23,
   "metadata": {},
   "outputs": [],
   "source": [
    "def access2_api():\n",
    "    filters= [\n",
    "        'areaType=nation',\n",
    "        'areaName=england'\n",
    "    ]\n",
    "\n",
    "\n",
    "# values here are the names of the PHE metrics\n",
    "    structure = {\n",
    "       \"date\":\"date\",\n",
    "       \"newCases\":\"newCasesByPublishDate\",\n",
    "       \"hospitalAdmissions\": \"newAdmissions\"  \n",
    "    }\n",
    "    \n",
    "    api_two = Cov19API(filters=filters, structure=structure)\n",
    "    area=api_two.get_json()\n",
    "    #print(area)\n",
    "    #with open(\"england.json\", \"wt\") as OUTF:\n",
    "        #json.dump(england, OUTF)\n",
    "    #with open(\"england.json\", \"rt\") as INFILE:\n",
    "        #data=json.load(INFILE)\n",
    "    #INFLIE.close()\n",
    "    \n",
    "    return area\n",
    "#access_api()"
   ]
  },
  {
   "cell_type": "markdown",
   "metadata": {},
   "source": [
    "## New Cases and Hospital Admissions per day in England "
   ]
  },
  {
   "cell_type": "code",
   "execution_count": 20,
   "metadata": {},
   "outputs": [
    {
     "data": {
      "application/vnd.jupyter.widget-view+json": {
       "model_id": "bf20064e60e5400da0db60cccb842ba6",
       "version_major": 2,
       "version_minor": 0
      },
      "text/plain": [
       "Button(button_style='success', description='Refresh data', icon='download', style=ButtonStyle(), tooltip='Clic…"
      ]
     },
     "metadata": {},
     "output_type": "display_data"
    }
   ],
   "source": [
    "def api_button2_callback(button):\n",
    "    apidata_two=access2_api()\n",
    "    global area_df\n",
    "    area_df=wrangle2_data(apidata_two)\n",
    "    refresh2_graph()\n",
    "    apibutton_two.icon=\"check\"\n",
    "    #graph.plt.style.use(\"ggplot\")\n",
    "   \n",
    "    \n",
    "apibutton_two=wdg.Button(\n",
    "    description='Refresh data', # you may want to change this...\n",
    "    disabled=False,\n",
    "    button_style='success', # 'success', 'info', 'warning', 'danger' or ''\n",
    "    tooltip='Click to download current Public Health England data',\n",
    "    # FontAwesome names without the `fa-` prefix - try \"download\"\n",
    "    icon='download'\n",
    ")\n",
    "\n",
    "# remember to register your button callback function with the button\n",
    "apibutton_two.on_click(api_button2_callback) # the name of your function inside these brackets\n",
    "\n",
    "display(apibutton_two)"
   ]
  },
  {
   "cell_type": "code",
   "execution_count": 24,
   "metadata": {},
   "outputs": [
    {
     "data": {
      "application/vnd.jupyter.widget-view+json": {
       "model_id": "349fb38f2f8c43a68ac05fca132fdeb2",
       "version_major": 2,
       "version_minor": 0
      },
      "text/plain": [
       "HBox(children=(Output(), VBox(children=(SelectMultiple(description='Stats:', index=(0, 1), options=('newCases'…"
      ]
     },
     "metadata": {},
     "output_type": "display_data"
    }
   ],
   "source": [
    "#area_df=pd.read_pickle(\"area_df.pkl\")\n",
    "\n",
    "\n",
    "          \n",
    "def area_graph(gcols, gscale):\n",
    "    #print(gcols)\n",
    "    #print(gscale)\n",
    "    #print(england_df)\n",
    "    if gscale=='linear':\n",
    "        logscale=False\n",
    "    else:\n",
    "        logscale=True\n",
    "    ncols=len(gcols)\n",
    "    if ncols>0:\n",
    "        area_df[list(gcols)].plot(logy=logscale)\n",
    "    else:\n",
    "        print(\"Click to select data for graph\")\n",
    "        print(\"(CTRL-Click to select more than one category)\")\n",
    "        \n",
    "series2=wdg.SelectMultiple(\n",
    "    options=['newCases', 'hospitalAdmissions'],\n",
    "    value=['newCases', 'hospitalAdmissions'],\n",
    "    rows=2,\n",
    "    description='Stats:',\n",
    "    disabled=False\n",
    ")\n",
    "    \n",
    "scale2=wdg.RadioButtons(\n",
    "    options=['linear', 'log'],\n",
    "    #value='pineapple', # Defaults to 'pineapple'\n",
    "    #layout={'width': 'max-content'}, # If the items' names are long\n",
    "    description='Scale:',\n",
    "    disabled=False\n",
    ")\n",
    "\n",
    "controls=wdg.HBox([series2, scale2])\n",
    "\n",
    "\n",
    "def refresh2_graph():\n",
    "    \"\"\" We change the value of the widget in order to force a redraw of the graph;\n",
    "    this is useful when the data have been updated. This is a bit of a gimmick; it\n",
    "    needs to be customised for one of your widgets. \"\"\"\n",
    "    current_2=scale2.value\n",
    "    if current_2==scale2.options[0]:\n",
    "        other_2=scale2.options[1]\n",
    "    else:\n",
    "        other_2=scale2.options[0]\n",
    "    scale2.value=other_2 # forces the redraw\n",
    "    scale2.value=current_2 # now we can change it back\n",
    "    \n",
    "# keep calling timeseries_graph(gcols=value_of_series, gscale=value_of_scale); capture output in variable graph   \n",
    "graph2=wdg.interactive_output(area_graph, {'gcols': series2, 'gscale': scale2})\n",
    "\n",
    "#display(controls, graph)\n",
    "# stack series and scale on top of each other\n",
    "ctrls2=wdg.VBox([series2, scale2])\n",
    "# put the graph and the controls side by side\n",
    "form_2=wdg.HBox([graph2, ctrls2])\n",
    "\n",
    "# Now form contains the entire interface\n",
    "display(form_2)"
   ]
  },
  {
   "cell_type": "markdown",
   "metadata": {},
   "source": [
    "## New Cases by Publish Date in England - Graph"
   ]
  },
  {
   "cell_type": "code",
   "execution_count": null,
   "metadata": {},
   "outputs": [],
   "source": [
    "area_df.plot(y='newCases', color = 'red')\n",
    "plt.style.use(\"ggplot\")\n",
    "plt.xlabel(\"Date\")\n",
    "plt.ylabel(\"New Cases\")\n",
    "plt.title(\"New Cases by Date\")\n",
    "#plt.grid(True)"
   ]
  },
  {
   "cell_type": "markdown",
   "metadata": {},
   "source": [
    "## Hospital Admissions per day in England - Graph"
   ]
  },
  {
   "cell_type": "code",
   "execution_count": null,
   "metadata": {},
   "outputs": [],
   "source": [
    "area_df.plot(y='hospitalAdmissions', color = 'purple')\n",
    "plt.style.use(\"ggplot\")\n",
    "plt.xlabel(\"Date\")\n",
    "plt.ylabel(\"Hospital Admissions\")\n",
    "plt.title(\"Hospital Admissions by Date\")\n",
    "plt.grid(True)"
   ]
  },
  {
   "cell_type": "markdown",
   "metadata": {},
   "source": [
    "## A Comparison Between Hospital Admissions and New Cases in England"
   ]
  },
  {
   "cell_type": "code",
   "execution_count": null,
   "metadata": {},
   "outputs": [],
   "source": [
    "area_df.plot(kind = 'scatter', x= 'newCases', y='hospitalAdmissions', color = 'yellow')\n",
    "plt.style.use(\"ggplot\")\n",
    "plt.xlabel(\"New Cases\")\n",
    "plt.ylabel(\"Hospital Admissions\")\n",
    "plt.title(\"Comparison of new Cases with Hospital Admissions\")\n",
    "plt.grid(True)"
   ]
  },
  {
   "cell_type": "markdown",
   "metadata": {},
   "source": [
    "**Author and Copyright Notice**  (C) Jennifer Chidera Chukwumah, 2020 j.c.chukwumah@se20.qmul.ac.uk All rights reserved: *Based on UK Government [data](https://coronavirus.data.gov.uk/) published by [Public Health England](https://www.gov.uk/government/organisations/public-health-england).*"
   ]
  }
 ],
 "metadata": {
  "kernelspec": {
   "display_name": "Python 3",
   "language": "python",
   "name": "python3"
  },
  "language_info": {
   "codemirror_mode": {
    "name": "ipython",
    "version": 3
   },
   "file_extension": ".py",
   "mimetype": "text/x-python",
   "name": "python",
   "nbconvert_exporter": "python",
   "pygments_lexer": "ipython3",
   "version": "3.8.3"
  }
 },
 "nbformat": 4,
 "nbformat_minor": 4
}
